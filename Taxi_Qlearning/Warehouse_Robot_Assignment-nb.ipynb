{
  "cells": [
    {
      "cell_type": "code",
      "execution_count": 54,
      "metadata": {
        "id": "m7As7qh4navx"
      },
      "outputs": [],
      "source": [
        "import gym\n",
        "import numpy as np\n",
        "import pandas as pd\n",
        "import random\n",
        "from gym import envs\n",
        "from IPython.display import display, clear_output\n",
        "import warnings\n",
        "warnings.filterwarnings('ignore')\n",
        "from time import sleep"
      ]
    },
    {
      "cell_type": "code",
      "source": [
        "#Setting up the environment"
      ],
      "metadata": {
        "id": "-HsNmm5waamW"
      },
      "execution_count": null,
      "outputs": []
    },
    {
      "cell_type": "code",
      "source": [
        "env = gym.make('Taxi-v3')"
      ],
      "metadata": {
        "id": "J0CJ4tDeaNja"
      },
      "execution_count": 55,
      "outputs": []
    },
    {
      "cell_type": "code",
      "execution_count": 56,
      "metadata": {
        "id": "mNlV-YvdnlOH",
        "colab": {
          "base_uri": "https://localhost:8080/"
        },
        "outputId": "e7d67ba2-f250-4677-b073-c2bfa9ddbd48"
      },
      "outputs": [
        {
          "output_type": "stream",
          "name": "stdout",
          "text": [
            "Initial state: 193\n",
            "Time: Discrete(6)\n",
            "Speed: Discrete(6)\n",
            "State Space Discrete(500)\n",
            "- DOWN: Discrete(500)\n",
            "- LEFT: Discrete(500)\n",
            "- RIGHT: Discrete(500)\n",
            "Action Space Discrete(6)\n"
          ]
        }
      ],
      "source": [
        "# Instantiate the scene states of the warehouse robot\n",
        "state = env.reset()\n",
        "\n",
        "print(f\"Initial state: {state}\")\n",
        "# Checkout observable features of the warehouse robot interacting with its environment\n",
        "#print(\"State space:\", env.observation_space)\n",
        "print(\"Time:\", env.action_space)\n",
        "print(\"Speed:\", env.action_space)\n",
        "\n",
        "# Exploring the state observation space\n",
        "\n",
        "print(\"State Space {}\".format(env.observation_space))\n",
        "\n",
        "print(\"- DOWN:\", env.observation_space)\n",
        "\n",
        "print(\"- LEFT:\", env.observation_space)\n",
        "\n",
        "print(\"- RIGHT:\", env.observation_space)\n",
        "\n",
        "## Exploring action space\n",
        "\n",
        "print(\"Action Space {}\".format(env.action_space))\n"
      ]
    },
    {
      "cell_type": "code",
      "source": [
        "\n",
        "from google.colab import files\n",
        "uploaded = files.upload()"
      ],
      "metadata": {
        "colab": {
          "base_uri": "https://localhost:8080/",
          "height": 73
        },
        "id": "MHPF4PpEdD9z",
        "outputId": "b9b40241-534a-421a-8cce-d4e295a6513b"
      },
      "execution_count": 58,
      "outputs": [
        {
          "output_type": "display_data",
          "data": {
            "text/plain": [
              "<IPython.core.display.HTML object>"
            ],
            "text/html": [
              "\n",
              "     <input type=\"file\" id=\"files-85f344ad-4b1e-4c44-8469-4c6325c0ddbe\" name=\"files[]\" multiple disabled\n",
              "        style=\"border:none\" />\n",
              "     <output id=\"result-85f344ad-4b1e-4c44-8469-4c6325c0ddbe\">\n",
              "      Upload widget is only available when the cell has been executed in the\n",
              "      current browser session. Please rerun this cell to enable.\n",
              "      </output>\n",
              "      <script>// Copyright 2017 Google LLC\n",
              "//\n",
              "// Licensed under the Apache License, Version 2.0 (the \"License\");\n",
              "// you may not use this file except in compliance with the License.\n",
              "// You may obtain a copy of the License at\n",
              "//\n",
              "//      http://www.apache.org/licenses/LICENSE-2.0\n",
              "//\n",
              "// Unless required by applicable law or agreed to in writing, software\n",
              "// distributed under the License is distributed on an \"AS IS\" BASIS,\n",
              "// WITHOUT WARRANTIES OR CONDITIONS OF ANY KIND, either express or implied.\n",
              "// See the License for the specific language governing permissions and\n",
              "// limitations under the License.\n",
              "\n",
              "/**\n",
              " * @fileoverview Helpers for google.colab Python module.\n",
              " */\n",
              "(function(scope) {\n",
              "function span(text, styleAttributes = {}) {\n",
              "  const element = document.createElement('span');\n",
              "  element.textContent = text;\n",
              "  for (const key of Object.keys(styleAttributes)) {\n",
              "    element.style[key] = styleAttributes[key];\n",
              "  }\n",
              "  return element;\n",
              "}\n",
              "\n",
              "// Max number of bytes which will be uploaded at a time.\n",
              "const MAX_PAYLOAD_SIZE = 100 * 1024;\n",
              "\n",
              "function _uploadFiles(inputId, outputId) {\n",
              "  const steps = uploadFilesStep(inputId, outputId);\n",
              "  const outputElement = document.getElementById(outputId);\n",
              "  // Cache steps on the outputElement to make it available for the next call\n",
              "  // to uploadFilesContinue from Python.\n",
              "  outputElement.steps = steps;\n",
              "\n",
              "  return _uploadFilesContinue(outputId);\n",
              "}\n",
              "\n",
              "// This is roughly an async generator (not supported in the browser yet),\n",
              "// where there are multiple asynchronous steps and the Python side is going\n",
              "// to poll for completion of each step.\n",
              "// This uses a Promise to block the python side on completion of each step,\n",
              "// then passes the result of the previous step as the input to the next step.\n",
              "function _uploadFilesContinue(outputId) {\n",
              "  const outputElement = document.getElementById(outputId);\n",
              "  const steps = outputElement.steps;\n",
              "\n",
              "  const next = steps.next(outputElement.lastPromiseValue);\n",
              "  return Promise.resolve(next.value.promise).then((value) => {\n",
              "    // Cache the last promise value to make it available to the next\n",
              "    // step of the generator.\n",
              "    outputElement.lastPromiseValue = value;\n",
              "    return next.value.response;\n",
              "  });\n",
              "}\n",
              "\n",
              "/**\n",
              " * Generator function which is called between each async step of the upload\n",
              " * process.\n",
              " * @param {string} inputId Element ID of the input file picker element.\n",
              " * @param {string} outputId Element ID of the output display.\n",
              " * @return {!Iterable<!Object>} Iterable of next steps.\n",
              " */\n",
              "function* uploadFilesStep(inputId, outputId) {\n",
              "  const inputElement = document.getElementById(inputId);\n",
              "  inputElement.disabled = false;\n",
              "\n",
              "  const outputElement = document.getElementById(outputId);\n",
              "  outputElement.innerHTML = '';\n",
              "\n",
              "  const pickedPromise = new Promise((resolve) => {\n",
              "    inputElement.addEventListener('change', (e) => {\n",
              "      resolve(e.target.files);\n",
              "    });\n",
              "  });\n",
              "\n",
              "  const cancel = document.createElement('button');\n",
              "  inputElement.parentElement.appendChild(cancel);\n",
              "  cancel.textContent = 'Cancel upload';\n",
              "  const cancelPromise = new Promise((resolve) => {\n",
              "    cancel.onclick = () => {\n",
              "      resolve(null);\n",
              "    };\n",
              "  });\n",
              "\n",
              "  // Wait for the user to pick the files.\n",
              "  const files = yield {\n",
              "    promise: Promise.race([pickedPromise, cancelPromise]),\n",
              "    response: {\n",
              "      action: 'starting',\n",
              "    }\n",
              "  };\n",
              "\n",
              "  cancel.remove();\n",
              "\n",
              "  // Disable the input element since further picks are not allowed.\n",
              "  inputElement.disabled = true;\n",
              "\n",
              "  if (!files) {\n",
              "    return {\n",
              "      response: {\n",
              "        action: 'complete',\n",
              "      }\n",
              "    };\n",
              "  }\n",
              "\n",
              "  for (const file of files) {\n",
              "    const li = document.createElement('li');\n",
              "    li.append(span(file.name, {fontWeight: 'bold'}));\n",
              "    li.append(span(\n",
              "        `(${file.type || 'n/a'}) - ${file.size} bytes, ` +\n",
              "        `last modified: ${\n",
              "            file.lastModifiedDate ? file.lastModifiedDate.toLocaleDateString() :\n",
              "                                    'n/a'} - `));\n",
              "    const percent = span('0% done');\n",
              "    li.appendChild(percent);\n",
              "\n",
              "    outputElement.appendChild(li);\n",
              "\n",
              "    const fileDataPromise = new Promise((resolve) => {\n",
              "      const reader = new FileReader();\n",
              "      reader.onload = (e) => {\n",
              "        resolve(e.target.result);\n",
              "      };\n",
              "      reader.readAsArrayBuffer(file);\n",
              "    });\n",
              "    // Wait for the data to be ready.\n",
              "    let fileData = yield {\n",
              "      promise: fileDataPromise,\n",
              "      response: {\n",
              "        action: 'continue',\n",
              "      }\n",
              "    };\n",
              "\n",
              "    // Use a chunked sending to avoid message size limits. See b/62115660.\n",
              "    let position = 0;\n",
              "    do {\n",
              "      const length = Math.min(fileData.byteLength - position, MAX_PAYLOAD_SIZE);\n",
              "      const chunk = new Uint8Array(fileData, position, length);\n",
              "      position += length;\n",
              "\n",
              "      const base64 = btoa(String.fromCharCode.apply(null, chunk));\n",
              "      yield {\n",
              "        response: {\n",
              "          action: 'append',\n",
              "          file: file.name,\n",
              "          data: base64,\n",
              "        },\n",
              "      };\n",
              "\n",
              "      let percentDone = fileData.byteLength === 0 ?\n",
              "          100 :\n",
              "          Math.round((position / fileData.byteLength) * 100);\n",
              "      percent.textContent = `${percentDone}% done`;\n",
              "\n",
              "    } while (position < fileData.byteLength);\n",
              "  }\n",
              "\n",
              "  // All done.\n",
              "  yield {\n",
              "    response: {\n",
              "      action: 'complete',\n",
              "    }\n",
              "  };\n",
              "}\n",
              "\n",
              "scope.google = scope.google || {};\n",
              "scope.google.colab = scope.google.colab || {};\n",
              "scope.google.colab._files = {\n",
              "  _uploadFiles,\n",
              "  _uploadFilesContinue,\n",
              "};\n",
              "})(self);\n",
              "</script> "
            ]
          },
          "metadata": {}
        },
        {
          "output_type": "stream",
          "name": "stdout",
          "text": [
            "Saving robot.csv to robot.csv\n"
          ]
        }
      ]
    },
    {
      "cell_type": "code",
      "source": [
        "## Reading from Dataset\n",
        "iff = pd.read_csv('robot.csv', header=None)\n",
        "view_matrix = iff.values\n",
        "\n",
        "print(view_matrix)"
      ],
      "metadata": {
        "id": "EVCYl1XuGrdn",
        "colab": {
          "base_uri": "https://localhost:8080/"
        },
        "outputId": "eb3f516c-0eb7-4c64-d64d-015b9bcd9c8f"
      },
      "execution_count": 59,
      "outputs": [
        {
          "output_type": "stream",
          "name": "stdout",
          "text": [
            "[[ 0.00000000e+00  0.00000000e+00  1.00000000e+01  0.00000000e+00]\n",
            " [ 0.00000000e+00  3.00000000e+00  9.99314767e+00  2.61679781e-01]\n",
            " [ 0.00000000e+00  5.00000000e+00  9.98097349e+00  4.35778714e-01]\n",
            " ...\n",
            " [ 1.80000000e+02  1.75000000e+02 -1.90265095e-02 -4.35778714e-01]\n",
            " [ 1.80000000e+02  1.78000000e+02 -3.04586490e-03 -1.74497484e-01]\n",
            " [ 1.80000000e+02  1.80000000e+02  0.00000000e+00 -6.12323400e-16]]\n"
          ]
        }
      ]
    },
    {
      "cell_type": "code",
      "source": [
        "env.render()"
      ],
      "metadata": {
        "id": "koepKE1CMoeU"
      },
      "execution_count": 60,
      "outputs": []
    },
    {
      "cell_type": "code",
      "source": [
        "# Check out movements\n",
        "maxrewards=0\n",
        "obs= env.reset()\n",
        "env.render()\n",
        "for i in range(6):\n",
        "    action = env.action_space.sample()\n",
        "    obs, reward, done, info = env.step(action)\n",
        "    maxrewards += reward\n",
        "    env.render()\n",
        "#List down rewards for every action\n",
        "print(\"Tabulate-rewards: %r\" % maxrewards)"
      ],
      "metadata": {
        "colab": {
          "base_uri": "https://localhost:8080/"
        },
        "id": "zTqOwRPzMo4W",
        "outputId": "057d0105-5284-4894-8d51-10940386f0bb"
      },
      "execution_count": 61,
      "outputs": [
        {
          "output_type": "stream",
          "name": "stdout",
          "text": [
            "Tabulate-rewards: -33\n"
          ]
        }
      ]
    },
    {
      "cell_type": "code",
      "source": [
        "# Check out random space\n",
        "\n",
        "env.P[126]"
      ],
      "metadata": {
        "colab": {
          "base_uri": "https://localhost:8080/"
        },
        "id": "24s-95BiPFE4",
        "outputId": "769a4c5a-6039-4cfb-9375-6e228364010b"
      },
      "execution_count": 62,
      "outputs": [
        {
          "output_type": "execute_result",
          "data": {
            "text/plain": [
              "{0: [(1.0, 226, -1, False)],\n",
              " 1: [(1.0, 26, -1, False)],\n",
              " 2: [(1.0, 126, -1, False)],\n",
              " 3: [(1.0, 106, -1, False)],\n",
              " 4: [(1.0, 126, -10, False)],\n",
              " 5: [(1.0, 126, -10, False)]}"
            ]
          },
          "metadata": {},
          "execution_count": 62
        }
      ]
    },
    {
      "cell_type": "code",
      "source": [
        "# Qlearning\n",
        "\n",
        "learn_rate = 0.2\n",
        "qtable = np.zeros([env.observation_space.n, env.action_space.n])\n",
        "discount = 0.4\n",
        "\n",
        "for scene in range(1,2134):\n",
        "    state = env.reset()\n",
        "    done = False\n",
        "    maxrewards = 0\n",
        "\n",
        "    while done != True:\n",
        "        action = np.argmax(qtable[state])\n",
        "        state_new, reward, done, info = env.step(action)\n",
        "        qtable[state,action] += learn_rate * (reward + discount * np.max(qtable[state_new,:]) - qtable[state,action])\n",
        "        maxrewards = maxrewards + reward\n",
        "        state = state_new\n",
        "    if scene % 50 == 0:\n",
        "        print('Scene {} Max Reward: {}'.format(scene,maxrewards))\n"
      ],
      "metadata": {
        "colab": {
          "base_uri": "https://localhost:8080/"
        },
        "id": "dTaLVE2FP4La",
        "outputId": "f2748a72-30a3-4670-c06f-43fa179121ce"
      },
      "execution_count": 38,
      "outputs": [
        {
          "output_type": "stream",
          "name": "stdout",
          "text": [
            "Scene 50 Max Reward: -200\n",
            "Scene 100 Max Reward: -200\n",
            "Scene 150 Max Reward: -120\n",
            "Scene 200 Max Reward: -200\n",
            "Scene 250 Max Reward: -64\n",
            "Scene 300 Max Reward: -81\n",
            "Scene 350 Max Reward: -9\n",
            "Scene 400 Max Reward: -37\n",
            "Scene 450 Max Reward: -67\n",
            "Scene 500 Max Reward: -18\n",
            "Scene 550 Max Reward: -24\n",
            "Scene 600 Max Reward: -29\n",
            "Scene 650 Max Reward: -73\n",
            "Scene 700 Max Reward: 13\n",
            "Scene 750 Max Reward: -37\n",
            "Scene 800 Max Reward: 11\n",
            "Scene 850 Max Reward: -46\n",
            "Scene 900 Max Reward: 4\n",
            "Scene 950 Max Reward: -89\n",
            "Scene 1000 Max Reward: 7\n",
            "Scene 1050 Max Reward: 9\n",
            "Scene 1100 Max Reward: 2\n",
            "Scene 1150 Max Reward: 9\n",
            "Scene 1200 Max Reward: -2\n",
            "Scene 1250 Max Reward: 7\n",
            "Scene 1300 Max Reward: 7\n",
            "Scene 1350 Max Reward: 6\n",
            "Scene 1400 Max Reward: 8\n",
            "Scene 1450 Max Reward: -2\n",
            "Scene 1500 Max Reward: -13\n",
            "Scene 1550 Max Reward: 4\n",
            "Scene 1600 Max Reward: -3\n",
            "Scene 1650 Max Reward: -12\n",
            "Scene 1700 Max Reward: 9\n",
            "Scene 1750 Max Reward: 5\n",
            "Scene 1800 Max Reward: 3\n",
            "Scene 1850 Max Reward: -8\n",
            "Scene 1900 Max Reward: 4\n",
            "Scene 1950 Max Reward: 2\n",
            "Scene 2000 Max Reward: 6\n",
            "Scene 2050 Max Reward: 6\n",
            "Scene 2100 Max Reward: 6\n"
          ]
        }
      ]
    },
    {
      "cell_type": "code",
      "source": [
        "\n",
        "env.reset()\n",
        "\n",
        "state = env.reset()\n",
        "step = 0\n",
        "done = False\n",
        "print(\"****************************************************\")\n",
        "print(\"STARTING \")\n",
        "env.render()\n",
        "for step in range(maxrewards):\n",
        "\n",
        "    # Take the action (index) that have the maximum expected future reward given that state\n",
        "    action = np.argmax(qtable[state,:])\n",
        "\n",
        "    new_state, reward, done, info = env.step(action)\n",
        "\n",
        "\n",
        "    env.render()\n",
        "\n",
        "    # We print the current step.\n",
        "    print(\"Number of steps\", step)\n",
        "    if done:\n",
        "      break\n",
        "    state = new_state\n",
        "env.close()"
      ],
      "metadata": {
        "colab": {
          "base_uri": "https://localhost:8080/"
        },
        "id": "fTSr6L7GUs73",
        "outputId": "6469ded9-2628-407e-abd8-d537a91a0de7"
      },
      "execution_count": 41,
      "outputs": [
        {
          "output_type": "stream",
          "name": "stdout",
          "text": [
            "****************************************************\n",
            "STARTING \n",
            "Number of steps 0\n",
            "Number of steps 1\n"
          ]
        }
      ]
    }
  ],
  "metadata": {
    "colab": {
      "provenance": []
    },
    "kernelspec": {
      "display_name": "ml-refresher",
      "language": "python",
      "name": "ml-refresher"
    },
    "language_info": {
      "codemirror_mode": {
        "name": "ipython",
        "version": 3
      },
      "file_extension": ".py",
      "mimetype": "text/x-python",
      "name": "python",
      "nbconvert_exporter": "python",
      "pygments_lexer": "ipython3",
      "version": "3.8.12"
    }
  },
  "nbformat": 4,
  "nbformat_minor": 0
}