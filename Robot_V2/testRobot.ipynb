{
 "cells": [
  {
   "cell_type": "code",
   "execution_count": null,
   "metadata": {},
   "outputs": [],
   "source": [
    "pip install pyglet==1.5"
   ]
  },
  {
   "cell_type": "code",
   "execution_count": null,
   "metadata": {},
   "outputs": [],
   "source": [
    "from robotic_warehouse.warehouse import Warehouse, RewardType, Action\n",
    "import time\n",
    "from tqdm import tqdm"
   ]
  },
  {
   "cell_type": "code",
   "execution_count": null,
   "metadata": {},
   "outputs": [],
   "source": [
    "\"\"\"\n",
    "(x,y)=(shelf_columns,shelf_columns)\n",
    "tiny: (1, 3)\n",
    "small: (2, 3)\n",
    "medium: (2, 5)\n",
    "large: (3, 5)\n",
    "\"\"\"\n",
    "shelf_rows=1\n",
    "shelf_columns=3\n",
    "\n",
    "\"\"\"\n",
    "n_agents = # of robots\n",
    "\"\"\"\n",
    "n_agents=2\n",
    "\n",
    "\"\"\"\n",
    "difficulty:\n",
    "    easy = 2\n",
    "    medium = 1\n",
    "    hard = 0.5\n",
    "\"\"\"\n",
    "request_queue_size=int(n_agents*1)\n",
    "\n",
    "\"\"\"\n",
    "RewardType(Enum):\n",
    "    GLOBAL = 0\n",
    "    INDIVIDUAL = 1\n",
    "    TWO_STAGE = 2\n",
    "\"\"\"\n",
    "reward_type= RewardType.INDIVIDUAL\n",
    "\n",
    "msg_bits=3\n",
    "max_inactivity_steps=None\n",
    "max_steps=500\n",
    "sensor_range=1\n",
    "column_height=8"
   ]
  },
  {
   "cell_type": "code",
   "execution_count": null,
   "metadata": {},
   "outputs": [],
   "source": [
    "env = Warehouse(shelf_columns, column_height, shelf_rows, n_agents, msg_bits, sensor_range, request_queue_size, max_inactivity_steps, max_steps, reward_type)\n",
    "env.reset()\n",
    "env.render()\n",
    "\n",
    "for _ in tqdm(range(1000000)):\n",
    "    #env.render()\n",
    "    actions = env.action_space.sample()\n",
    "    new_obs, rewards, dones, info, delivered=env.step(actions)\n",
    "    if delivered:\n",
    "        print([new_obs, rewards, dones, info, delivered])  "
   ]
  }
 ],
 "metadata": {
  "kernelspec": {
   "display_name": "Python 3",
   "language": "python",
   "name": "python3"
  },
  "language_info": {
   "codemirror_mode": {
    "name": "ipython",
    "version": 3
   },
   "file_extension": ".py",
   "mimetype": "text/x-python",
   "name": "python",
   "nbconvert_exporter": "python",
   "pygments_lexer": "ipython3",
   "version": "3.12.0"
  }
 },
 "nbformat": 4,
 "nbformat_minor": 2
}
